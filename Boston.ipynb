{
 "cells": [
  {
   "cell_type": "code",
   "execution_count": 46,
   "id": "08ede29f-1cfa-4d4d-a9aa-84c69c2f4e46",
   "metadata": {},
   "outputs": [],
   "source": [
    "import pandas as pd\n",
    "import numpy as np\n",
    "df = pd.read_csv(\"BostonHousing.csv\")"
   ]
  },
  {
   "cell_type": "code",
   "execution_count": 47,
   "id": "0c22d67c-f1c4-4340-b32a-90ccd64495e2",
   "metadata": {},
   "outputs": [],
   "source": [
    "# df.head()"
   ]
  },
  {
   "cell_type": "code",
   "execution_count": 48,
   "id": "a933b32a-5397-4ef8-b1cd-9ce6fdff7f62",
   "metadata": {},
   "outputs": [],
   "source": [
    "# targer and feature\n",
    "x = df.iloc[: , [5,12]]\n",
    "y = df.iloc[ : , 13]"
   ]
  },
  {
   "cell_type": "code",
   "execution_count": 49,
   "id": "979b4e49-77ea-4077-b283-1ed2dfb295a2",
   "metadata": {},
   "outputs": [],
   "source": [
    "from sklearn.model_selection import train_test_split\n",
    "xtrain, xtest, ytrain, ytest = train_test_split(x,y, test_size=0.2, random_state=42)"
   ]
  },
  {
   "cell_type": "code",
   "execution_count": 50,
   "id": "315a23dc-2baa-4fb8-bddf-b3f405f9d62e",
   "metadata": {},
   "outputs": [],
   "source": [
    "from sklearn.preprocessing import StandardScaler\n",
    "sc = StandardScaler()\n",
    "xtrain = sc.fit_transform(xtrain)\n",
    "xtest = sc.fit_transform(xtest)"
   ]
  },
  {
   "cell_type": "code",
   "execution_count": 51,
   "id": "861689bc-a02b-4545-9769-e0cf7567c3dc",
   "metadata": {},
   "outputs": [],
   "source": [
    "import tensorflow as tf\n",
    "from keras.models import Sequential\n",
    "from keras.layers import Dense\n",
    "m = Sequential()"
   ]
  },
  {
   "cell_type": "code",
   "execution_count": 52,
   "id": "18c79518-2082-49cd-b405-488ce3860a4f",
   "metadata": {},
   "outputs": [],
   "source": [
    "# help(m)\n",
    "import keras\n",
    "m.add(keras.Input(shape=(2,)))\n",
    "m.add(Dense(8))\n",
    "m.add(Dense(1))\n",
    "m.compile(optimizer = 'Adam', loss='mean_squared_error', metrics = ['mean_absolute_error'])"
   ]
  },
  {
   "cell_type": "code",
   "execution_count": 53,
   "id": "53e1cb98-a0d8-4326-8464-b10ff1d73244",
   "metadata": {},
   "outputs": [],
   "source": [
    "# m.summary()"
   ]
  },
  {
   "cell_type": "code",
   "execution_count": 54,
   "id": "6062f03d-45ff-49f9-b353-c20ff90acb91",
   "metadata": {},
   "outputs": [
    {
     "name": "stdout",
     "output_type": "stream",
     "text": [
      "Epoch 1/100\n",
      "\u001b[1m135/135\u001b[0m \u001b[32m━━━━━━━━━━━━━━━━━━━━\u001b[0m\u001b[37m\u001b[0m \u001b[1m1s\u001b[0m 2ms/step - loss: 584.8918 - mean_absolute_error: 22.5966 - val_loss: 499.3730 - val_mean_absolute_error: 20.8300\n",
      "Epoch 2/100\n",
      "\u001b[1m135/135\u001b[0m \u001b[32m━━━━━━━━━━━━━━━━━━━━\u001b[0m\u001b[37m\u001b[0m \u001b[1m0s\u001b[0m 1ms/step - loss: 524.4208 - mean_absolute_error: 21.3497 - val_loss: 455.9958 - val_mean_absolute_error: 19.9720\n",
      "Epoch 3/100\n",
      "\u001b[1m135/135\u001b[0m \u001b[32m━━━━━━━━━━━━━━━━━━━━\u001b[0m\u001b[37m\u001b[0m \u001b[1m0s\u001b[0m 1ms/step - loss: 496.9102 - mean_absolute_error: 20.8223 - val_loss: 402.6532 - val_mean_absolute_error: 18.8132\n",
      "Epoch 4/100\n",
      "\u001b[1m135/135\u001b[0m \u001b[32m━━━━━━━━━━━━━━━━━━━━\u001b[0m\u001b[37m\u001b[0m \u001b[1m0s\u001b[0m 1ms/step - loss: 422.5982 - mean_absolute_error: 19.2382 - val_loss: 341.1036 - val_mean_absolute_error: 17.3132\n",
      "Epoch 5/100\n",
      "\u001b[1m135/135\u001b[0m \u001b[32m━━━━━━━━━━━━━━━━━━━━\u001b[0m\u001b[37m\u001b[0m \u001b[1m0s\u001b[0m 1ms/step - loss: 389.4645 - mean_absolute_error: 18.3822 - val_loss: 275.6340 - val_mean_absolute_error: 15.4839\n",
      "Epoch 6/100\n",
      "\u001b[1m135/135\u001b[0m \u001b[32m━━━━━━━━━━━━━━━━━━━━\u001b[0m\u001b[37m\u001b[0m \u001b[1m0s\u001b[0m 1ms/step - loss: 313.4746 - mean_absolute_error: 16.4319 - val_loss: 211.1558 - val_mean_absolute_error: 13.3747\n",
      "Epoch 7/100\n",
      "\u001b[1m135/135\u001b[0m \u001b[32m━━━━━━━━━━━━━━━━━━━━\u001b[0m\u001b[37m\u001b[0m \u001b[1m0s\u001b[0m 1ms/step - loss: 220.2094 - mean_absolute_error: 13.7355 - val_loss: 153.4308 - val_mean_absolute_error: 11.0905\n",
      "Epoch 8/100\n",
      "\u001b[1m135/135\u001b[0m \u001b[32m━━━━━━━━━━━━━━━━━━━━\u001b[0m\u001b[37m\u001b[0m \u001b[1m0s\u001b[0m 1ms/step - loss: 176.2021 - mean_absolute_error: 11.7964 - val_loss: 106.4656 - val_mean_absolute_error: 8.8207\n",
      "Epoch 9/100\n",
      "\u001b[1m135/135\u001b[0m \u001b[32m━━━━━━━━━━━━━━━━━━━━\u001b[0m\u001b[37m\u001b[0m \u001b[1m0s\u001b[0m 1ms/step - loss: 125.9505 - mean_absolute_error: 9.9000 - val_loss: 73.0793 - val_mean_absolute_error: 6.7180\n",
      "Epoch 10/100\n",
      "\u001b[1m135/135\u001b[0m \u001b[32m━━━━━━━━━━━━━━━━━━━━\u001b[0m\u001b[37m\u001b[0m \u001b[1m0s\u001b[0m 1ms/step - loss: 89.2818 - mean_absolute_error: 7.5873 - val_loss: 51.4376 - val_mean_absolute_error: 4.9864\n",
      "Epoch 11/100\n",
      "\u001b[1m135/135\u001b[0m \u001b[32m━━━━━━━━━━━━━━━━━━━━\u001b[0m\u001b[37m\u001b[0m \u001b[1m0s\u001b[0m 1ms/step - loss: 57.4594 - mean_absolute_error: 5.7544 - val_loss: 39.7622 - val_mean_absolute_error: 3.9923\n",
      "Epoch 12/100\n",
      "\u001b[1m135/135\u001b[0m \u001b[32m━━━━━━━━━━━━━━━━━━━━\u001b[0m\u001b[37m\u001b[0m \u001b[1m0s\u001b[0m 1ms/step - loss: 41.0074 - mean_absolute_error: 4.4911 - val_loss: 34.3376 - val_mean_absolute_error: 3.7987\n",
      "Epoch 13/100\n",
      "\u001b[1m135/135\u001b[0m \u001b[32m━━━━━━━━━━━━━━━━━━━━\u001b[0m\u001b[37m\u001b[0m \u001b[1m0s\u001b[0m 1ms/step - loss: 32.2181 - mean_absolute_error: 3.9739 - val_loss: 32.2845 - val_mean_absolute_error: 3.9039\n",
      "Epoch 14/100\n",
      "\u001b[1m135/135\u001b[0m \u001b[32m━━━━━━━━━━━━━━━━━━━━\u001b[0m\u001b[37m\u001b[0m \u001b[1m0s\u001b[0m 1ms/step - loss: 42.6423 - mean_absolute_error: 4.4513 - val_loss: 31.9528 - val_mean_absolute_error: 4.0256\n",
      "Epoch 15/100\n",
      "\u001b[1m135/135\u001b[0m \u001b[32m━━━━━━━━━━━━━━━━━━━━\u001b[0m\u001b[37m\u001b[0m \u001b[1m0s\u001b[0m 2ms/step - loss: 30.3987 - mean_absolute_error: 3.8973 - val_loss: 32.1411 - val_mean_absolute_error: 4.1316\n",
      "Epoch 16/100\n",
      "\u001b[1m135/135\u001b[0m \u001b[32m━━━━━━━━━━━━━━━━━━━━\u001b[0m\u001b[37m\u001b[0m \u001b[1m0s\u001b[0m 1ms/step - loss: 25.7270 - mean_absolute_error: 3.6487 - val_loss: 32.5821 - val_mean_absolute_error: 4.2239\n",
      "Epoch 17/100\n",
      "\u001b[1m135/135\u001b[0m \u001b[32m━━━━━━━━━━━━━━━━━━━━\u001b[0m\u001b[37m\u001b[0m \u001b[1m0s\u001b[0m 1ms/step - loss: 31.5075 - mean_absolute_error: 4.1669 - val_loss: 33.0116 - val_mean_absolute_error: 4.2969\n",
      "Epoch 18/100\n",
      "\u001b[1m135/135\u001b[0m \u001b[32m━━━━━━━━━━━━━━━━━━━━\u001b[0m\u001b[37m\u001b[0m \u001b[1m0s\u001b[0m 1ms/step - loss: 32.9491 - mean_absolute_error: 4.2373 - val_loss: 33.2025 - val_mean_absolute_error: 4.3253\n",
      "Epoch 19/100\n",
      "\u001b[1m135/135\u001b[0m \u001b[32m━━━━━━━━━━━━━━━━━━━━\u001b[0m\u001b[37m\u001b[0m \u001b[1m0s\u001b[0m 1ms/step - loss: 27.3347 - mean_absolute_error: 3.8184 - val_loss: 33.2432 - val_mean_absolute_error: 4.3283\n",
      "Epoch 20/100\n",
      "\u001b[1m135/135\u001b[0m \u001b[32m━━━━━━━━━━━━━━━━━━━━\u001b[0m\u001b[37m\u001b[0m \u001b[1m0s\u001b[0m 1ms/step - loss: 27.6559 - mean_absolute_error: 3.8672 - val_loss: 33.4412 - val_mean_absolute_error: 4.3547\n",
      "Epoch 21/100\n",
      "\u001b[1m135/135\u001b[0m \u001b[32m━━━━━━━━━━━━━━━━━━━━\u001b[0m\u001b[37m\u001b[0m \u001b[1m0s\u001b[0m 1ms/step - loss: 32.4159 - mean_absolute_error: 4.0592 - val_loss: 33.4246 - val_mean_absolute_error: 4.3482\n",
      "Epoch 22/100\n",
      "\u001b[1m135/135\u001b[0m \u001b[32m━━━━━━━━━━━━━━━━━━━━\u001b[0m\u001b[37m\u001b[0m \u001b[1m0s\u001b[0m 1ms/step - loss: 32.7801 - mean_absolute_error: 4.1222 - val_loss: 33.3586 - val_mean_absolute_error: 4.3398\n",
      "Epoch 23/100\n",
      "\u001b[1m135/135\u001b[0m \u001b[32m━━━━━━━━━━━━━━━━━━━━\u001b[0m\u001b[37m\u001b[0m \u001b[1m0s\u001b[0m 1ms/step - loss: 31.5516 - mean_absolute_error: 4.1143 - val_loss: 33.5442 - val_mean_absolute_error: 4.3584\n",
      "Epoch 24/100\n",
      "\u001b[1m135/135\u001b[0m \u001b[32m━━━━━━━━━━━━━━━━━━━━\u001b[0m\u001b[37m\u001b[0m \u001b[1m0s\u001b[0m 1ms/step - loss: 27.8472 - mean_absolute_error: 3.8318 - val_loss: 33.5527 - val_mean_absolute_error: 4.3632\n",
      "Epoch 25/100\n",
      "\u001b[1m135/135\u001b[0m \u001b[32m━━━━━━━━━━━━━━━━━━━━\u001b[0m\u001b[37m\u001b[0m \u001b[1m0s\u001b[0m 1ms/step - loss: 31.0536 - mean_absolute_error: 3.9993 - val_loss: 33.4180 - val_mean_absolute_error: 4.3506\n",
      "Epoch 26/100\n",
      "\u001b[1m135/135\u001b[0m \u001b[32m━━━━━━━━━━━━━━━━━━━━\u001b[0m\u001b[37m\u001b[0m \u001b[1m0s\u001b[0m 1ms/step - loss: 27.6080 - mean_absolute_error: 3.8552 - val_loss: 33.7309 - val_mean_absolute_error: 4.3808\n",
      "Epoch 27/100\n",
      "\u001b[1m135/135\u001b[0m \u001b[32m━━━━━━━━━━━━━━━━━━━━\u001b[0m\u001b[37m\u001b[0m \u001b[1m0s\u001b[0m 1ms/step - loss: 25.8813 - mean_absolute_error: 3.8054 - val_loss: 33.7281 - val_mean_absolute_error: 4.3849\n",
      "Epoch 28/100\n",
      "\u001b[1m135/135\u001b[0m \u001b[32m━━━━━━━━━━━━━━━━━━━━\u001b[0m\u001b[37m\u001b[0m \u001b[1m0s\u001b[0m 1ms/step - loss: 32.3060 - mean_absolute_error: 4.0968 - val_loss: 33.6246 - val_mean_absolute_error: 4.3706\n",
      "Epoch 29/100\n",
      "\u001b[1m135/135\u001b[0m \u001b[32m━━━━━━━━━━━━━━━━━━━━\u001b[0m\u001b[37m\u001b[0m \u001b[1m0s\u001b[0m 1ms/step - loss: 33.8690 - mean_absolute_error: 4.1068 - val_loss: 33.5191 - val_mean_absolute_error: 4.3522\n",
      "Epoch 30/100\n",
      "\u001b[1m135/135\u001b[0m \u001b[32m━━━━━━━━━━━━━━━━━━━━\u001b[0m\u001b[37m\u001b[0m \u001b[1m0s\u001b[0m 1ms/step - loss: 31.1480 - mean_absolute_error: 4.0366 - val_loss: 33.2615 - val_mean_absolute_error: 4.3306\n",
      "Epoch 31/100\n",
      "\u001b[1m135/135\u001b[0m \u001b[32m━━━━━━━━━━━━━━━━━━━━\u001b[0m\u001b[37m\u001b[0m \u001b[1m0s\u001b[0m 1ms/step - loss: 30.7817 - mean_absolute_error: 3.9789 - val_loss: 33.5625 - val_mean_absolute_error: 4.3584\n",
      "Epoch 32/100\n",
      "\u001b[1m135/135\u001b[0m \u001b[32m━━━━━━━━━━━━━━━━━━━━\u001b[0m\u001b[37m\u001b[0m \u001b[1m0s\u001b[0m 1ms/step - loss: 28.7817 - mean_absolute_error: 3.7833 - val_loss: 33.5991 - val_mean_absolute_error: 4.3682\n",
      "Epoch 33/100\n",
      "\u001b[1m135/135\u001b[0m \u001b[32m━━━━━━━━━━━━━━━━━━━━\u001b[0m\u001b[37m\u001b[0m \u001b[1m0s\u001b[0m 1ms/step - loss: 29.5631 - mean_absolute_error: 4.0018 - val_loss: 33.8806 - val_mean_absolute_error: 4.4057\n",
      "Epoch 34/100\n",
      "\u001b[1m135/135\u001b[0m \u001b[32m━━━━━━━━━━━━━━━━━━━━\u001b[0m\u001b[37m\u001b[0m \u001b[1m0s\u001b[0m 2ms/step - loss: 28.4976 - mean_absolute_error: 3.7373 - val_loss: 33.7954 - val_mean_absolute_error: 4.3864\n",
      "Epoch 35/100\n",
      "\u001b[1m135/135\u001b[0m \u001b[32m━━━━━━━━━━━━━━━━━━━━\u001b[0m\u001b[37m\u001b[0m \u001b[1m0s\u001b[0m 1ms/step - loss: 28.0478 - mean_absolute_error: 3.8758 - val_loss: 33.6024 - val_mean_absolute_error: 4.3611\n",
      "Epoch 36/100\n",
      "\u001b[1m135/135\u001b[0m \u001b[32m━━━━━━━━━━━━━━━━━━━━\u001b[0m\u001b[37m\u001b[0m \u001b[1m0s\u001b[0m 1ms/step - loss: 28.5518 - mean_absolute_error: 3.7916 - val_loss: 33.6398 - val_mean_absolute_error: 4.3628\n",
      "Epoch 37/100\n",
      "\u001b[1m135/135\u001b[0m \u001b[32m━━━━━━━━━━━━━━━━━━━━\u001b[0m\u001b[37m\u001b[0m \u001b[1m0s\u001b[0m 1ms/step - loss: 33.5967 - mean_absolute_error: 3.8504 - val_loss: 33.6483 - val_mean_absolute_error: 4.3645\n",
      "Epoch 38/100\n",
      "\u001b[1m135/135\u001b[0m \u001b[32m━━━━━━━━━━━━━━━━━━━━\u001b[0m\u001b[37m\u001b[0m \u001b[1m0s\u001b[0m 1ms/step - loss: 32.8605 - mean_absolute_error: 3.8453 - val_loss: 33.4052 - val_mean_absolute_error: 4.3369\n",
      "Epoch 39/100\n",
      "\u001b[1m135/135\u001b[0m \u001b[32m━━━━━━━━━━━━━━━━━━━━\u001b[0m\u001b[37m\u001b[0m \u001b[1m0s\u001b[0m 1ms/step - loss: 42.0120 - mean_absolute_error: 4.4608 - val_loss: 33.7658 - val_mean_absolute_error: 4.3810\n",
      "Epoch 40/100\n",
      "\u001b[1m135/135\u001b[0m \u001b[32m━━━━━━━━━━━━━━━━━━━━\u001b[0m\u001b[37m\u001b[0m \u001b[1m0s\u001b[0m 1ms/step - loss: 27.9640 - mean_absolute_error: 3.8578 - val_loss: 33.5920 - val_mean_absolute_error: 4.3457\n",
      "Epoch 41/100\n",
      "\u001b[1m135/135\u001b[0m \u001b[32m━━━━━━━━━━━━━━━━━━━━\u001b[0m\u001b[37m\u001b[0m \u001b[1m0s\u001b[0m 1ms/step - loss: 27.0112 - mean_absolute_error: 3.9329 - val_loss: 33.5725 - val_mean_absolute_error: 4.3640\n",
      "Epoch 42/100\n",
      "\u001b[1m135/135\u001b[0m \u001b[32m━━━━━━━━━━━━━━━━━━━━\u001b[0m\u001b[37m\u001b[0m \u001b[1m0s\u001b[0m 1ms/step - loss: 29.8911 - mean_absolute_error: 3.8377 - val_loss: 33.7763 - val_mean_absolute_error: 4.3798\n",
      "Epoch 43/100\n",
      "\u001b[1m135/135\u001b[0m \u001b[32m━━━━━━━━━━━━━━━━━━━━\u001b[0m\u001b[37m\u001b[0m \u001b[1m0s\u001b[0m 1ms/step - loss: 30.0231 - mean_absolute_error: 3.9580 - val_loss: 33.7261 - val_mean_absolute_error: 4.3687\n",
      "Epoch 44/100\n",
      "\u001b[1m135/135\u001b[0m \u001b[32m━━━━━━━━━━━━━━━━━━━━\u001b[0m\u001b[37m\u001b[0m \u001b[1m0s\u001b[0m 1ms/step - loss: 30.5310 - mean_absolute_error: 3.9869 - val_loss: 33.5156 - val_mean_absolute_error: 4.3507\n",
      "Epoch 45/100\n",
      "\u001b[1m135/135\u001b[0m \u001b[32m━━━━━━━━━━━━━━━━━━━━\u001b[0m\u001b[37m\u001b[0m \u001b[1m0s\u001b[0m 1ms/step - loss: 39.5021 - mean_absolute_error: 4.3650 - val_loss: 33.3747 - val_mean_absolute_error: 4.3237\n",
      "Epoch 46/100\n",
      "\u001b[1m135/135\u001b[0m \u001b[32m━━━━━━━━━━━━━━━━━━━━\u001b[0m\u001b[37m\u001b[0m \u001b[1m0s\u001b[0m 1ms/step - loss: 29.5006 - mean_absolute_error: 3.8014 - val_loss: 33.3431 - val_mean_absolute_error: 4.3254\n",
      "Epoch 47/100\n",
      "\u001b[1m135/135\u001b[0m \u001b[32m━━━━━━━━━━━━━━━━━━━━\u001b[0m\u001b[37m\u001b[0m \u001b[1m0s\u001b[0m 1ms/step - loss: 25.6602 - mean_absolute_error: 3.7004 - val_loss: 33.6592 - val_mean_absolute_error: 4.3647\n",
      "Epoch 48/100\n",
      "\u001b[1m135/135\u001b[0m \u001b[32m━━━━━━━━━━━━━━━━━━━━\u001b[0m\u001b[37m\u001b[0m \u001b[1m0s\u001b[0m 1ms/step - loss: 28.4495 - mean_absolute_error: 3.8674 - val_loss: 33.6142 - val_mean_absolute_error: 4.3492\n",
      "Epoch 49/100\n",
      "\u001b[1m135/135\u001b[0m \u001b[32m━━━━━━━━━━━━━━━━━━━━\u001b[0m\u001b[37m\u001b[0m \u001b[1m0s\u001b[0m 2ms/step - loss: 27.6049 - mean_absolute_error: 3.9002 - val_loss: 33.5751 - val_mean_absolute_error: 4.3596\n",
      "Epoch 50/100\n",
      "\u001b[1m135/135\u001b[0m \u001b[32m━━━━━━━━━━━━━━━━━━━━\u001b[0m\u001b[37m\u001b[0m \u001b[1m0s\u001b[0m 2ms/step - loss: 29.8995 - mean_absolute_error: 3.9400 - val_loss: 33.5704 - val_mean_absolute_error: 4.3506\n",
      "Epoch 51/100\n",
      "\u001b[1m135/135\u001b[0m \u001b[32m━━━━━━━━━━━━━━━━━━━━\u001b[0m\u001b[37m\u001b[0m \u001b[1m0s\u001b[0m 2ms/step - loss: 28.1500 - mean_absolute_error: 3.8417 - val_loss: 33.5663 - val_mean_absolute_error: 4.3494\n",
      "Epoch 52/100\n",
      "\u001b[1m135/135\u001b[0m \u001b[32m━━━━━━━━━━━━━━━━━━━━\u001b[0m\u001b[37m\u001b[0m \u001b[1m0s\u001b[0m 2ms/step - loss: 32.0260 - mean_absolute_error: 3.9661 - val_loss: 33.6857 - val_mean_absolute_error: 4.3564\n",
      "Epoch 53/100\n",
      "\u001b[1m135/135\u001b[0m \u001b[32m━━━━━━━━━━━━━━━━━━━━\u001b[0m\u001b[37m\u001b[0m \u001b[1m0s\u001b[0m 1ms/step - loss: 27.8990 - mean_absolute_error: 3.8451 - val_loss: 33.4570 - val_mean_absolute_error: 4.3331\n",
      "Epoch 54/100\n",
      "\u001b[1m135/135\u001b[0m \u001b[32m━━━━━━━━━━━━━━━━━━━━\u001b[0m\u001b[37m\u001b[0m \u001b[1m0s\u001b[0m 1ms/step - loss: 27.3436 - mean_absolute_error: 3.7785 - val_loss: 33.5271 - val_mean_absolute_error: 4.3442\n",
      "Epoch 55/100\n",
      "\u001b[1m135/135\u001b[0m \u001b[32m━━━━━━━━━━━━━━━━━━━━\u001b[0m\u001b[37m\u001b[0m \u001b[1m0s\u001b[0m 1ms/step - loss: 33.3140 - mean_absolute_error: 4.2342 - val_loss: 33.5776 - val_mean_absolute_error: 4.3603\n",
      "Epoch 56/100\n",
      "\u001b[1m135/135\u001b[0m \u001b[32m━━━━━━━━━━━━━━━━━━━━\u001b[0m\u001b[37m\u001b[0m \u001b[1m0s\u001b[0m 1ms/step - loss: 31.0508 - mean_absolute_error: 3.8656 - val_loss: 33.5721 - val_mean_absolute_error: 4.3465\n",
      "Epoch 57/100\n",
      "\u001b[1m135/135\u001b[0m \u001b[32m━━━━━━━━━━━━━━━━━━━━\u001b[0m\u001b[37m\u001b[0m \u001b[1m0s\u001b[0m 1ms/step - loss: 31.5562 - mean_absolute_error: 3.9581 - val_loss: 33.2533 - val_mean_absolute_error: 4.3168\n",
      "Epoch 58/100\n",
      "\u001b[1m135/135\u001b[0m \u001b[32m━━━━━━━━━━━━━━━━━━━━\u001b[0m\u001b[37m\u001b[0m \u001b[1m0s\u001b[0m 1ms/step - loss: 29.5042 - mean_absolute_error: 3.8058 - val_loss: 33.4237 - val_mean_absolute_error: 4.3340\n",
      "Epoch 59/100\n",
      "\u001b[1m135/135\u001b[0m \u001b[32m━━━━━━━━━━━━━━━━━━━━\u001b[0m\u001b[37m\u001b[0m \u001b[1m0s\u001b[0m 1ms/step - loss: 30.9881 - mean_absolute_error: 3.9266 - val_loss: 33.2092 - val_mean_absolute_error: 4.3127\n",
      "Epoch 60/100\n",
      "\u001b[1m135/135\u001b[0m \u001b[32m━━━━━━━━━━━━━━━━━━━━\u001b[0m\u001b[37m\u001b[0m \u001b[1m0s\u001b[0m 1ms/step - loss: 29.9907 - mean_absolute_error: 4.0124 - val_loss: 33.4078 - val_mean_absolute_error: 4.3425\n",
      "Epoch 61/100\n",
      "\u001b[1m135/135\u001b[0m \u001b[32m━━━━━━━━━━━━━━━━━━━━\u001b[0m\u001b[37m\u001b[0m \u001b[1m0s\u001b[0m 1ms/step - loss: 27.8012 - mean_absolute_error: 3.8894 - val_loss: 33.4085 - val_mean_absolute_error: 4.3277\n",
      "Epoch 62/100\n",
      "\u001b[1m135/135\u001b[0m \u001b[32m━━━━━━━━━━━━━━━━━━━━\u001b[0m\u001b[37m\u001b[0m \u001b[1m0s\u001b[0m 1ms/step - loss: 26.5358 - mean_absolute_error: 3.8176 - val_loss: 33.3660 - val_mean_absolute_error: 4.3287\n",
      "Epoch 63/100\n",
      "\u001b[1m135/135\u001b[0m \u001b[32m━━━━━━━━━━━━━━━━━━━━\u001b[0m\u001b[37m\u001b[0m \u001b[1m0s\u001b[0m 2ms/step - loss: 25.4243 - mean_absolute_error: 3.7037 - val_loss: 33.5661 - val_mean_absolute_error: 4.3587\n",
      "Epoch 64/100\n",
      "\u001b[1m135/135\u001b[0m \u001b[32m━━━━━━━━━━━━━━━━━━━━\u001b[0m\u001b[37m\u001b[0m \u001b[1m0s\u001b[0m 1ms/step - loss: 32.0177 - mean_absolute_error: 4.0162 - val_loss: 33.2362 - val_mean_absolute_error: 4.3113\n",
      "Epoch 65/100\n",
      "\u001b[1m135/135\u001b[0m \u001b[32m━━━━━━━━━━━━━━━━━━━━\u001b[0m\u001b[37m\u001b[0m \u001b[1m0s\u001b[0m 1ms/step - loss: 33.2008 - mean_absolute_error: 4.0635 - val_loss: 33.5912 - val_mean_absolute_error: 4.3543\n",
      "Epoch 66/100\n",
      "\u001b[1m135/135\u001b[0m \u001b[32m━━━━━━━━━━━━━━━━━━━━\u001b[0m\u001b[37m\u001b[0m \u001b[1m0s\u001b[0m 1ms/step - loss: 31.0328 - mean_absolute_error: 4.0547 - val_loss: 33.4627 - val_mean_absolute_error: 4.3385\n",
      "Epoch 67/100\n",
      "\u001b[1m135/135\u001b[0m \u001b[32m━━━━━━━━━━━━━━━━━━━━\u001b[0m\u001b[37m\u001b[0m \u001b[1m0s\u001b[0m 1ms/step - loss: 31.8939 - mean_absolute_error: 4.0838 - val_loss: 33.4738 - val_mean_absolute_error: 4.3372\n",
      "Epoch 68/100\n",
      "\u001b[1m135/135\u001b[0m \u001b[32m━━━━━━━━━━━━━━━━━━━━\u001b[0m\u001b[37m\u001b[0m \u001b[1m0s\u001b[0m 1ms/step - loss: 36.3968 - mean_absolute_error: 4.2431 - val_loss: 33.6582 - val_mean_absolute_error: 4.3647\n",
      "Epoch 69/100\n",
      "\u001b[1m135/135\u001b[0m \u001b[32m━━━━━━━━━━━━━━━━━━━━\u001b[0m\u001b[37m\u001b[0m \u001b[1m0s\u001b[0m 1ms/step - loss: 32.4792 - mean_absolute_error: 4.2307 - val_loss: 33.2894 - val_mean_absolute_error: 4.3152\n",
      "Epoch 70/100\n",
      "\u001b[1m135/135\u001b[0m \u001b[32m━━━━━━━━━━━━━━━━━━━━\u001b[0m\u001b[37m\u001b[0m \u001b[1m0s\u001b[0m 1ms/step - loss: 27.4194 - mean_absolute_error: 3.8070 - val_loss: 33.4169 - val_mean_absolute_error: 4.3297\n",
      "Epoch 71/100\n",
      "\u001b[1m135/135\u001b[0m \u001b[32m━━━━━━━━━━━━━━━━━━━━\u001b[0m\u001b[37m\u001b[0m \u001b[1m0s\u001b[0m 1ms/step - loss: 30.4649 - mean_absolute_error: 3.9634 - val_loss: 33.5785 - val_mean_absolute_error: 4.3463\n",
      "Epoch 72/100\n",
      "\u001b[1m135/135\u001b[0m \u001b[32m━━━━━━━━━━━━━━━━━━━━\u001b[0m\u001b[37m\u001b[0m \u001b[1m0s\u001b[0m 1ms/step - loss: 29.6122 - mean_absolute_error: 3.9736 - val_loss: 33.2368 - val_mean_absolute_error: 4.3076\n",
      "Epoch 73/100\n",
      "\u001b[1m135/135\u001b[0m \u001b[32m━━━━━━━━━━━━━━━━━━━━\u001b[0m\u001b[37m\u001b[0m \u001b[1m0s\u001b[0m 1ms/step - loss: 27.6416 - mean_absolute_error: 3.8786 - val_loss: 33.1568 - val_mean_absolute_error: 4.3033\n",
      "Epoch 74/100\n",
      "\u001b[1m135/135\u001b[0m \u001b[32m━━━━━━━━━━━━━━━━━━━━\u001b[0m\u001b[37m\u001b[0m \u001b[1m0s\u001b[0m 2ms/step - loss: 34.2180 - mean_absolute_error: 3.9200 - val_loss: 33.4841 - val_mean_absolute_error: 4.3443\n",
      "Epoch 75/100\n",
      "\u001b[1m135/135\u001b[0m \u001b[32m━━━━━━━━━━━━━━━━━━━━\u001b[0m\u001b[37m\u001b[0m \u001b[1m0s\u001b[0m 1ms/step - loss: 29.3350 - mean_absolute_error: 3.7792 - val_loss: 33.2327 - val_mean_absolute_error: 4.3148\n",
      "Epoch 76/100\n",
      "\u001b[1m135/135\u001b[0m \u001b[32m━━━━━━━━━━━━━━━━━━━━\u001b[0m\u001b[37m\u001b[0m \u001b[1m0s\u001b[0m 1ms/step - loss: 32.4444 - mean_absolute_error: 3.9936 - val_loss: 33.0980 - val_mean_absolute_error: 4.2970\n",
      "Epoch 77/100\n",
      "\u001b[1m135/135\u001b[0m \u001b[32m━━━━━━━━━━━━━━━━━━━━\u001b[0m\u001b[37m\u001b[0m \u001b[1m0s\u001b[0m 1ms/step - loss: 28.9304 - mean_absolute_error: 3.8843 - val_loss: 33.5315 - val_mean_absolute_error: 4.3476\n",
      "Epoch 78/100\n",
      "\u001b[1m135/135\u001b[0m \u001b[32m━━━━━━━━━━━━━━━━━━━━\u001b[0m\u001b[37m\u001b[0m \u001b[1m0s\u001b[0m 2ms/step - loss: 36.2389 - mean_absolute_error: 4.0321 - val_loss: 33.5765 - val_mean_absolute_error: 4.3566\n",
      "Epoch 79/100\n",
      "\u001b[1m135/135\u001b[0m \u001b[32m━━━━━━━━━━━━━━━━━━━━\u001b[0m\u001b[37m\u001b[0m \u001b[1m0s\u001b[0m 2ms/step - loss: 34.1028 - mean_absolute_error: 3.9178 - val_loss: 33.1018 - val_mean_absolute_error: 4.2998\n",
      "Epoch 80/100\n",
      "\u001b[1m135/135\u001b[0m \u001b[32m━━━━━━━━━━━━━━━━━━━━\u001b[0m\u001b[37m\u001b[0m \u001b[1m0s\u001b[0m 2ms/step - loss: 27.0331 - mean_absolute_error: 3.8724 - val_loss: 33.3366 - val_mean_absolute_error: 4.3238\n",
      "Epoch 81/100\n",
      "\u001b[1m135/135\u001b[0m \u001b[32m━━━━━━━━━━━━━━━━━━━━\u001b[0m\u001b[37m\u001b[0m \u001b[1m0s\u001b[0m 1ms/step - loss: 28.6719 - mean_absolute_error: 3.9655 - val_loss: 33.4916 - val_mean_absolute_error: 4.3402\n",
      "Epoch 82/100\n",
      "\u001b[1m135/135\u001b[0m \u001b[32m━━━━━━━━━━━━━━━━━━━━\u001b[0m\u001b[37m\u001b[0m \u001b[1m0s\u001b[0m 2ms/step - loss: 26.1683 - mean_absolute_error: 3.7182 - val_loss: 33.5856 - val_mean_absolute_error: 4.3647\n",
      "Epoch 83/100\n",
      "\u001b[1m135/135\u001b[0m \u001b[32m━━━━━━━━━━━━━━━━━━━━\u001b[0m\u001b[37m\u001b[0m \u001b[1m0s\u001b[0m 1ms/step - loss: 33.7619 - mean_absolute_error: 4.1696 - val_loss: 33.3766 - val_mean_absolute_error: 4.3297\n",
      "Epoch 84/100\n",
      "\u001b[1m135/135\u001b[0m \u001b[32m━━━━━━━━━━━━━━━━━━━━\u001b[0m\u001b[37m\u001b[0m \u001b[1m0s\u001b[0m 1ms/step - loss: 30.9505 - mean_absolute_error: 4.0040 - val_loss: 33.6092 - val_mean_absolute_error: 4.3610\n",
      "Epoch 85/100\n",
      "\u001b[1m135/135\u001b[0m \u001b[32m━━━━━━━━━━━━━━━━━━━━\u001b[0m\u001b[37m\u001b[0m \u001b[1m0s\u001b[0m 2ms/step - loss: 44.1917 - mean_absolute_error: 4.5400 - val_loss: 33.4412 - val_mean_absolute_error: 4.3400\n",
      "Epoch 86/100\n",
      "\u001b[1m135/135\u001b[0m \u001b[32m━━━━━━━━━━━━━━━━━━━━\u001b[0m\u001b[37m\u001b[0m \u001b[1m0s\u001b[0m 1ms/step - loss: 30.0205 - mean_absolute_error: 4.0506 - val_loss: 33.5699 - val_mean_absolute_error: 4.3576\n",
      "Epoch 87/100\n",
      "\u001b[1m135/135\u001b[0m \u001b[32m━━━━━━━━━━━━━━━━━━━━\u001b[0m\u001b[37m\u001b[0m \u001b[1m0s\u001b[0m 1ms/step - loss: 28.7080 - mean_absolute_error: 3.8007 - val_loss: 33.7088 - val_mean_absolute_error: 4.3642\n",
      "Epoch 88/100\n",
      "\u001b[1m135/135\u001b[0m \u001b[32m━━━━━━━━━━━━━━━━━━━━\u001b[0m\u001b[37m\u001b[0m \u001b[1m0s\u001b[0m 2ms/step - loss: 25.9309 - mean_absolute_error: 3.6611 - val_loss: 34.0962 - val_mean_absolute_error: 4.4065\n",
      "Epoch 89/100\n",
      "\u001b[1m135/135\u001b[0m \u001b[32m━━━━━━━━━━━━━━━━━━━━\u001b[0m\u001b[37m\u001b[0m \u001b[1m0s\u001b[0m 2ms/step - loss: 29.8512 - mean_absolute_error: 3.9183 - val_loss: 33.4522 - val_mean_absolute_error: 4.3269\n",
      "Epoch 90/100\n",
      "\u001b[1m135/135\u001b[0m \u001b[32m━━━━━━━━━━━━━━━━━━━━\u001b[0m\u001b[37m\u001b[0m \u001b[1m0s\u001b[0m 1ms/step - loss: 33.8002 - mean_absolute_error: 4.0066 - val_loss: 33.6763 - val_mean_absolute_error: 4.3573\n",
      "Epoch 91/100\n",
      "\u001b[1m135/135\u001b[0m \u001b[32m━━━━━━━━━━━━━━━━━━━━\u001b[0m\u001b[37m\u001b[0m \u001b[1m0s\u001b[0m 2ms/step - loss: 29.8181 - mean_absolute_error: 3.8722 - val_loss: 33.7168 - val_mean_absolute_error: 4.3616\n",
      "Epoch 92/100\n",
      "\u001b[1m135/135\u001b[0m \u001b[32m━━━━━━━━━━━━━━━━━━━━\u001b[0m\u001b[37m\u001b[0m \u001b[1m0s\u001b[0m 1ms/step - loss: 29.9458 - mean_absolute_error: 4.0253 - val_loss: 33.5844 - val_mean_absolute_error: 4.3475\n",
      "Epoch 93/100\n",
      "\u001b[1m135/135\u001b[0m \u001b[32m━━━━━━━━━━━━━━━━━━━━\u001b[0m\u001b[37m\u001b[0m \u001b[1m0s\u001b[0m 1ms/step - loss: 27.8184 - mean_absolute_error: 3.8724 - val_loss: 33.3220 - val_mean_absolute_error: 4.3239\n",
      "Epoch 94/100\n",
      "\u001b[1m135/135\u001b[0m \u001b[32m━━━━━━━━━━━━━━━━━━━━\u001b[0m\u001b[37m\u001b[0m \u001b[1m0s\u001b[0m 1ms/step - loss: 34.6287 - mean_absolute_error: 4.2318 - val_loss: 33.2662 - val_mean_absolute_error: 4.3123\n",
      "Epoch 95/100\n",
      "\u001b[1m135/135\u001b[0m \u001b[32m━━━━━━━━━━━━━━━━━━━━\u001b[0m\u001b[37m\u001b[0m \u001b[1m0s\u001b[0m 1ms/step - loss: 29.8935 - mean_absolute_error: 4.0414 - val_loss: 33.8168 - val_mean_absolute_error: 4.3775\n",
      "Epoch 96/100\n",
      "\u001b[1m135/135\u001b[0m \u001b[32m━━━━━━━━━━━━━━━━━━━━\u001b[0m\u001b[37m\u001b[0m \u001b[1m0s\u001b[0m 1ms/step - loss: 32.8390 - mean_absolute_error: 4.1073 - val_loss: 33.3479 - val_mean_absolute_error: 4.3225\n",
      "Epoch 97/100\n",
      "\u001b[1m135/135\u001b[0m \u001b[32m━━━━━━━━━━━━━━━━━━━━\u001b[0m\u001b[37m\u001b[0m \u001b[1m0s\u001b[0m 1ms/step - loss: 29.2922 - mean_absolute_error: 3.8991 - val_loss: 33.5017 - val_mean_absolute_error: 4.3400\n",
      "Epoch 98/100\n",
      "\u001b[1m135/135\u001b[0m \u001b[32m━━━━━━━━━━━━━━━━━━━━\u001b[0m\u001b[37m\u001b[0m \u001b[1m0s\u001b[0m 1ms/step - loss: 24.3740 - mean_absolute_error: 3.5921 - val_loss: 33.4529 - val_mean_absolute_error: 4.3378\n",
      "Epoch 99/100\n",
      "\u001b[1m135/135\u001b[0m \u001b[32m━━━━━━━━━━━━━━━━━━━━\u001b[0m\u001b[37m\u001b[0m \u001b[1m0s\u001b[0m 2ms/step - loss: 30.0918 - mean_absolute_error: 3.9175 - val_loss: 33.5695 - val_mean_absolute_error: 4.3516\n",
      "Epoch 100/100\n",
      "\u001b[1m135/135\u001b[0m \u001b[32m━━━━━━━━━━━━━━━━━━━━\u001b[0m\u001b[37m\u001b[0m \u001b[1m0s\u001b[0m 2ms/step - loss: 31.6281 - mean_absolute_error: 3.9899 - val_loss: 33.2923 - val_mean_absolute_error: 4.3156\n"
     ]
    },
    {
     "data": {
      "text/plain": [
       "<keras.src.callbacks.history.History at 0x1fd757a8c70>"
      ]
     },
     "execution_count": 54,
     "metadata": {},
     "output_type": "execute_result"
    }
   ],
   "source": [
    "m.fit(xtrain, ytrain, epochs=100, batch_size=3, validation_data= [xtest, ytest])"
   ]
  },
  {
   "cell_type": "code",
   "execution_count": 55,
   "id": "7041add0-dff8-4401-ba56-ab5adddcd39c",
   "metadata": {},
   "outputs": [
    {
     "name": "stdout",
     "output_type": "stream",
     "text": [
      "\u001b[1m4/4\u001b[0m \u001b[32m━━━━━━━━━━━━━━━━━━━━\u001b[0m\u001b[37m\u001b[0m \u001b[1m0s\u001b[0m 12ms/step\n"
     ]
    }
   ],
   "source": [
    "ypred = m.predict(xtest)"
   ]
  },
  {
   "cell_type": "code",
   "execution_count": 56,
   "id": "f2e6ed0c-8c48-4ff4-b5c7-2bb226e0c806",
   "metadata": {},
   "outputs": [
    {
     "data": {
      "text/plain": [
       "4.315630814608405"
      ]
     },
     "execution_count": 56,
     "metadata": {},
     "output_type": "execute_result"
    }
   ],
   "source": [
    "from sklearn.metrics import mean_absolute_error, mean_squared_error\n",
    "mae = mean_absolute_error(ypred, ytest)\n",
    "mae"
   ]
  },
  {
   "cell_type": "code",
   "execution_count": 57,
   "id": "de06700a-343a-4afb-978b-29708735ed8e",
   "metadata": {},
   "outputs": [
    {
     "name": "stderr",
     "output_type": "stream",
     "text": [
      "C:\\Users\\buoyn\\anaconda3\\lib\\site-packages\\seaborn\\_decorators.py:36: FutureWarning: Pass the following variables as keyword args: x, y. From version 0.12, the only valid positional argument will be `data`, and passing other arguments without an explicit keyword will result in an error or misinterpretation.\n",
      "  warnings.warn(\n"
     ]
    },
    {
     "data": {
      "text/plain": [
       "<AxesSubplot:xlabel='medv'>"
      ]
     },
     "execution_count": 57,
     "metadata": {},
     "output_type": "execute_result"
    },
    {
     "data": {
      "image/png": "[encoded data removed]",
      "text/plain": [
       "<Figure size 432x288 with 1 Axes>"
      ]
     },
     "metadata": {
      "needs_background": "light"
     },
     "output_type": "display_data"
    }
   ],
   "source": [
    "import matplotlib.pyplot as plt\n",
    "import seaborn as sns\n",
    "\n",
    "# help(sns.regplot)\n",
    "sns.regplot(ytest, ypred)"
   ]
  },
  {
   "cell_type": "code",
   "execution_count": null,
   "id": "de05df65-1d57-4eb6-abc1-007146d2e8b1",
   "metadata": {},
   "outputs": [],
   "source": []
  }
 ],
 "metadata": {
  "kernelspec": {
   "display_name": "Python 3 (ipykernel)",
   "language": "python",
   "name": "python3"
  },
  "language_info": {
   "codemirror_mode": {
    "name": "ipython",
    "version": 3
   },
   "file_extension": ".py",
   "mimetype": "text/x-python",
   "name": "python",
   "nbconvert_exporter": "python",
   "pygments_lexer": "ipython3",
   "version": "3.9.12"
  }
 },
 "nbformat": 4,
 "nbformat_minor": 5
}

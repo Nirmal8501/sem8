{
 "cells": [
  {
   "cell_type": "code",
   "execution_count": 93,
   "id": "aeb0b641-4b7d-4c10-905c-f801963371e7",
   "metadata": {},
   "outputs": [],
   "source": [
    "import pandas as pd\n",
    "import numpy as np\n",
    "df = pd.read_csv(\"Google_Stock_Price_Train.csv\")"
   ]
  },
  {
   "cell_type": "code",
   "execution_count": 94,
   "id": "aa817a4a-eef3-476a-b427-b4f7a7f43ad9",
   "metadata": {},
   "outputs": [
    {
     "data": {
      "text/plain": [
       "array([[ 663.59    ],\n",
       "       [ 666.45    ],\n",
       "       [ 657.21    ],\n",
       "       ...,\n",
       "       [1049.369995],\n",
       "       [1048.140015],\n",
       "       [1046.400024]])"
      ]
     },
     "execution_count": 94,
     "metadata": {},
     "output_type": "execute_result"
    }
   ],
   "source": [
    "# df.head()\n",
    "# data = df['Close']\n",
    "df['Close'] = df['Close'].str.replace(\",\", \"\")\n",
    "df['Close'] = df['Close'].astype(float)\n",
    "data = df['Close'].values.reshape(-1, 1)\n",
    "data"
   ]
  },
  {
   "cell_type": "code",
   "execution_count": 95,
   "id": "026cbcf7-9725-4cd8-8659-f7469563e472",
   "metadata": {},
   "outputs": [],
   "source": [
    "from sklearn.preprocessing import MinMaxScaler\n",
    "sc = MinMaxScaler()\n",
    "data = sc.fit_transform(data)\n",
    "train = data[: int(len(data)*0.8)]\n",
    "test = data [ int(len(data)*0.8) : ]"
   ]
  },
  {
   "cell_type": "code",
   "execution_count": 96,
   "id": "861da569-fda5-4170-b6ff-cbb221e9fb67",
   "metadata": {},
   "outputs": [],
   "source": [
    "# train = sc.fit_transform(train)\n",
    "# test = sc.fit_transform(test)"
   ]
  },
  {
   "cell_type": "code",
   "execution_count": 97,
   "id": "c3feaf30-8752-4a91-bc46-97c60e8993e9",
   "metadata": {},
   "outputs": [],
   "source": [
    "def seq(arr, step=3):\n",
    "    x=[]\n",
    "    y=[]\n",
    "    for i in range(len(arr)-step):\n",
    "        x.append(arr[i:i+step, 0])\n",
    "        y.append(arr[i+step, 0])\n",
    "    return np.array(x), np.array(y)"
   ]
  },
  {
   "cell_type": "code",
   "execution_count": 98,
   "id": "31ad7c5e-5211-4253-9067-baf764027417",
   "metadata": {},
   "outputs": [],
   "source": [
    "xtrain, ytrain = seq(train, 3)\n",
    "xtest, ytest = seq(train, 3)"
   ]
  },
  {
   "cell_type": "code",
   "execution_count": 99,
   "id": "7a74d6aa-8a09-4951-a024-50afbae711ab",
   "metadata": {},
   "outputs": [
    {
     "name": "stdout",
     "output_type": "stream",
     "text": [
      "Epoch 1/30\n"
     ]
    },
    {
     "name": "stderr",
     "output_type": "stream",
     "text": [
      "C:\\Users\\buoyn\\anaconda3\\lib\\site-packages\\keras\\src\\layers\\rnn\\rnn.py:204: UserWarning: Do not pass an `input_shape`/`input_dim` argument to a layer. When using Sequential models, prefer using an `Input(shape)` object as the first layer in the model instead.\n",
      "  super().__init__(**kwargs)\n"
     ]
    },
    {
     "name": "stdout",
     "output_type": "stream",
     "text": [
      "\u001b[1m402/402\u001b[0m \u001b[32m━━━━━━━━━━━━━━━━━━━━\u001b[0m\u001b[37m\u001b[0m \u001b[1m4s\u001b[0m 2ms/step - loss: 0.0345\n",
      "Epoch 2/30\n",
      "\u001b[1m402/402\u001b[0m \u001b[32m━━━━━━━━━━━━━━━━━━━━\u001b[0m\u001b[37m\u001b[0m \u001b[1m1s\u001b[0m 3ms/step - loss: 0.0016\n",
      "Epoch 3/30\n",
      "\u001b[1m402/402\u001b[0m \u001b[32m━━━━━━━━━━━━━━━━━━━━\u001b[0m\u001b[37m\u001b[0m \u001b[1m1s\u001b[0m 3ms/step - loss: 0.0019\n",
      "Epoch 4/30\n",
      "\u001b[1m402/402\u001b[0m \u001b[32m━━━━━━━━━━━━━━━━━━━━\u001b[0m\u001b[37m\u001b[0m \u001b[1m1s\u001b[0m 3ms/step - loss: 0.0018\n",
      "Epoch 5/30\n",
      "\u001b[1m402/402\u001b[0m \u001b[32m━━━━━━━━━━━━━━━━━━━━\u001b[0m\u001b[37m\u001b[0m \u001b[1m1s\u001b[0m 3ms/step - loss: 0.0010   \n",
      "Epoch 6/30\n",
      "\u001b[1m402/402\u001b[0m \u001b[32m━━━━━━━━━━━━━━━━━━━━\u001b[0m\u001b[37m\u001b[0m \u001b[1m1s\u001b[0m 3ms/step - loss: 0.0012\n",
      "Epoch 7/30\n",
      "\u001b[1m402/402\u001b[0m \u001b[32m━━━━━━━━━━━━━━━━━━━━\u001b[0m\u001b[37m\u001b[0m \u001b[1m1s\u001b[0m 3ms/step - loss: 5.1253e-04\n",
      "Epoch 8/30\n",
      "\u001b[1m402/402\u001b[0m \u001b[32m━━━━━━━━━━━━━━━━━━━━\u001b[0m\u001b[37m\u001b[0m \u001b[1m1s\u001b[0m 3ms/step - loss: 0.0019\n",
      "Epoch 9/30\n",
      "\u001b[1m402/402\u001b[0m \u001b[32m━━━━━━━━━━━━━━━━━━━━\u001b[0m\u001b[37m\u001b[0m \u001b[1m1s\u001b[0m 3ms/step - loss: 9.3485e-04\n",
      "Epoch 10/30\n",
      "\u001b[1m402/402\u001b[0m \u001b[32m━━━━━━━━━━━━━━━━━━━━\u001b[0m\u001b[37m\u001b[0m \u001b[1m1s\u001b[0m 3ms/step - loss: 0.0016\n",
      "Epoch 11/30\n",
      "\u001b[1m402/402\u001b[0m \u001b[32m━━━━━━━━━━━━━━━━━━━━\u001b[0m\u001b[37m\u001b[0m \u001b[1m1s\u001b[0m 3ms/step - loss: 0.0023\n",
      "Epoch 12/30\n",
      "\u001b[1m402/402\u001b[0m \u001b[32m━━━━━━━━━━━━━━━━━━━━\u001b[0m\u001b[37m\u001b[0m \u001b[1m1s\u001b[0m 3ms/step - loss: 0.0012\n",
      "Epoch 13/30\n",
      "\u001b[1m402/402\u001b[0m \u001b[32m━━━━━━━━━━━━━━━━━━━━\u001b[0m\u001b[37m\u001b[0m \u001b[1m1s\u001b[0m 2ms/step - loss: 8.0323e-04\n",
      "Epoch 14/30\n",
      "\u001b[1m402/402\u001b[0m \u001b[32m━━━━━━━━━━━━━━━━━━━━\u001b[0m\u001b[37m\u001b[0m \u001b[1m1s\u001b[0m 2ms/step - loss: 8.9627e-04\n",
      "Epoch 15/30\n",
      "\u001b[1m402/402\u001b[0m \u001b[32m━━━━━━━━━━━━━━━━━━━━\u001b[0m\u001b[37m\u001b[0m \u001b[1m1s\u001b[0m 3ms/step - loss: 0.0019\n",
      "Epoch 16/30\n",
      "\u001b[1m402/402\u001b[0m \u001b[32m━━━━━━━━━━━━━━━━━━━━\u001b[0m\u001b[37m\u001b[0m \u001b[1m1s\u001b[0m 3ms/step - loss: 7.6072e-04\n",
      "Epoch 17/30\n",
      "\u001b[1m402/402\u001b[0m \u001b[32m━━━━━━━━━━━━━━━━━━━━\u001b[0m\u001b[37m\u001b[0m \u001b[1m1s\u001b[0m 3ms/step - loss: 0.0010 \n",
      "Epoch 18/30\n",
      "\u001b[1m402/402\u001b[0m \u001b[32m━━━━━━━━━━━━━━━━━━━━\u001b[0m\u001b[37m\u001b[0m \u001b[1m1s\u001b[0m 3ms/step - loss: 0.0013\n",
      "Epoch 19/30\n",
      "\u001b[1m402/402\u001b[0m \u001b[32m━━━━━━━━━━━━━━━━━━━━\u001b[0m\u001b[37m\u001b[0m \u001b[1m1s\u001b[0m 3ms/step - loss: 4.9650e-04\n",
      "Epoch 20/30\n",
      "\u001b[1m402/402\u001b[0m \u001b[32m━━━━━━━━━━━━━━━━━━━━\u001b[0m\u001b[37m\u001b[0m \u001b[1m1s\u001b[0m 3ms/step - loss: 0.0011\n",
      "Epoch 21/30\n",
      "\u001b[1m402/402\u001b[0m \u001b[32m━━━━━━━━━━━━━━━━━━━━\u001b[0m\u001b[37m\u001b[0m \u001b[1m1s\u001b[0m 3ms/step - loss: 5.1727e-04\n",
      "Epoch 22/30\n",
      "\u001b[1m402/402\u001b[0m \u001b[32m━━━━━━━━━━━━━━━━━━━━\u001b[0m\u001b[37m\u001b[0m \u001b[1m1s\u001b[0m 3ms/step - loss: 0.0014\n",
      "Epoch 23/30\n",
      "\u001b[1m402/402\u001b[0m \u001b[32m━━━━━━━━━━━━━━━━━━━━\u001b[0m\u001b[37m\u001b[0m \u001b[1m1s\u001b[0m 3ms/step - loss: 0.0014\n",
      "Epoch 24/30\n",
      "\u001b[1m402/402\u001b[0m \u001b[32m━━━━━━━━━━━━━━━━━━━━\u001b[0m\u001b[37m\u001b[0m \u001b[1m1s\u001b[0m 3ms/step - loss: 5.9962e-04\n",
      "Epoch 25/30\n",
      "\u001b[1m402/402\u001b[0m \u001b[32m━━━━━━━━━━━━━━━━━━━━\u001b[0m\u001b[37m\u001b[0m \u001b[1m1s\u001b[0m 3ms/step - loss: 8.0816e-04\n",
      "Epoch 26/30\n",
      "\u001b[1m402/402\u001b[0m \u001b[32m━━━━━━━━━━━━━━━━━━━━\u001b[0m\u001b[37m\u001b[0m \u001b[1m1s\u001b[0m 3ms/step - loss: 0.0016\n",
      "Epoch 27/30\n",
      "\u001b[1m402/402\u001b[0m \u001b[32m━━━━━━━━━━━━━━━━━━━━\u001b[0m\u001b[37m\u001b[0m \u001b[1m1s\u001b[0m 3ms/step - loss: 6.1285e-04\n",
      "Epoch 28/30\n",
      "\u001b[1m402/402\u001b[0m \u001b[32m━━━━━━━━━━━━━━━━━━━━\u001b[0m\u001b[37m\u001b[0m \u001b[1m1s\u001b[0m 3ms/step - loss: 9.0180e-04\n",
      "Epoch 29/30\n",
      "\u001b[1m402/402\u001b[0m \u001b[32m━━━━━━━━━━━━━━━━━━━━\u001b[0m\u001b[37m\u001b[0m \u001b[1m1s\u001b[0m 3ms/step - loss: 0.0017\n",
      "Epoch 30/30\n",
      "\u001b[1m402/402\u001b[0m \u001b[32m━━━━━━━━━━━━━━━━━━━━\u001b[0m\u001b[37m\u001b[0m \u001b[1m1s\u001b[0m 3ms/step - loss: 8.7502e-04\n"
     ]
    },
    {
     "data": {
      "text/plain": [
       "<keras.src.callbacks.history.History at 0x1e1f9e41040>"
      ]
     },
     "execution_count": 99,
     "metadata": {},
     "output_type": "execute_result"
    }
   ],
   "source": [
    "# xtrain  --> to print xtrain\n",
    "import tensorflow as tf\n",
    "import keras\n",
    "from keras.models import Sequential\n",
    "from keras.layers import Dense, LSTM\n",
    "m = Sequential()\n",
    "m.add(LSTM(units = 25, return_sequences=True, input_shape= (xtrain.shape[1], 1)))\n",
    "m.add(LSTM(units = 25))\n",
    "m.add(Dense(units = 1))\n",
    "m.compile(optimizer='Adam', loss='mean_squared_error')\n",
    "m.fit(xtrain, ytrain, batch_size = 3, epochs = 30)"
   ]
  },
  {
   "cell_type": "code",
   "execution_count": 100,
   "id": "cb9f6ed2-6523-442b-b352-fa27d93f83ee",
   "metadata": {},
   "outputs": [
    {
     "name": "stdout",
     "output_type": "stream",
     "text": [
      "\u001b[1m38/38\u001b[0m \u001b[32m━━━━━━━━━━━━━━━━━━━━\u001b[0m\u001b[37m\u001b[0m \u001b[1m1s\u001b[0m 9ms/step\n"
     ]
    }
   ],
   "source": [
    "ypred = m.predict(xtest)"
   ]
  },
  {
   "cell_type": "code",
   "execution_count": 101,
   "id": "1ba0dacf-256f-4cb7-b7fd-01f171c39a46",
   "metadata": {},
   "outputs": [],
   "source": [
    "# ypred = sc.inverse_transform(ypred)\n",
    "ypred = sc.inverse_transform(ypred)"
   ]
  },
  {
   "cell_type": "code",
   "execution_count": 104,
   "id": "4473fb36-28c3-4af6-bf6f-3cfe497e2e6b",
   "metadata": {},
   "outputs": [],
   "source": [
    "ytest = sc.inverse_transform(ytest.reshape(-1,1))"
   ]
  },
  {
   "cell_type": "code",
   "execution_count": 105,
   "id": "be6d95c2-aa38-4524-a028-f929334ecd21",
   "metadata": {},
   "outputs": [
    {
     "data": {
      "text/plain": [
       "array([[648.24],\n",
       "       [620.76],\n",
       "       [621.43],\n",
       "       ...,\n",
       "       [778.53],\n",
       "       [779.96],\n",
       "       [795.26]])"
      ]
     },
     "execution_count": 105,
     "metadata": {},
     "output_type": "execute_result"
    }
   ],
   "source": [
    "ytest"
   ]
  },
  {
   "cell_type": "code",
   "execution_count": 106,
   "id": "c4dfe99d-ebdc-40c3-a272-00f8394d83d2",
   "metadata": {},
   "outputs": [
    {
     "data": {
      "text/plain": [
       "8.63156488767098"
      ]
     },
     "execution_count": 106,
     "metadata": {},
     "output_type": "execute_result"
    }
   ],
   "source": [
    "from sklearn.metrics import mean_absolute_error\n",
    "mae = mean_absolute_error(ypred, ytest)\n",
    "mae"
   ]
  },
  {
   "cell_type": "code",
   "execution_count": 109,
   "id": "2db8336a-1664-407c-b3e9-ad2b76459c81",
   "metadata": {},
   "outputs": [
    {
     "data": {
      "text/plain": [
       "<matplotlib.legend.Legend at 0x1e18c4ddb50>"
      ]
     },
     "execution_count": 109,
     "metadata": {},
     "output_type": "execute_result"
    },
    {
     "data": {
      "image/png": "[encoded data removed]",
      "text/plain": [
       "<Figure size 432x288 with 1 Axes>"
      ]
     },
     "metadata": {
      "needs_background": "light"
     },
     "output_type": "display_data"
    }
   ],
   "source": [
    "import matplotlib.pyplot as plt\n",
    "plt.plot(ypred, label='Predicted Values')\n",
    "plt.plot(ytest, label='Actual Values')\n",
    "plt.legend()\n",
    "# plt."
   ]
  },
  {
   "cell_type": "code",
   "execution_count": null,
   "id": "a345fc15-ad12-4f5e-afe6-de2a0c83da90",
   "metadata": {},
   "outputs": [],
   "source": []
  }
 ],
 "metadata": {
  "kernelspec": {
   "display_name": "Python 3 (ipykernel)",
   "language": "python",
   "name": "python3"
  },
  "language_info": {
   "codemirror_mode": {
    "name": "ipython",
    "version": 3
   },
   "file_extension": ".py",
   "mimetype": "text/x-python",
   "name": "python",
   "nbconvert_exporter": "python",
   "pygments_lexer": "ipython3",
   "version": "3.9.12"
  }
 },
 "nbformat": 4,
 "nbformat_minor": 5
}
